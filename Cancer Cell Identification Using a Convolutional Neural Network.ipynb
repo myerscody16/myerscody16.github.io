{
 "cells": [
  {
   "cell_type": "code",
   "execution_count": 1,
   "metadata": {},
   "outputs": [],
   "source": [
    "%load_ext tensorboard\n",
    "import pandas as pd\n",
    "from keras.preprocessing.image import ImageDataGenerator\n",
    "from keras import Sequential, optimizers\n",
    "from keras.layers import Conv2D, Activation, MaxPooling2D, Dropout, Flatten, Dense\n",
    "import tensorflow as tf\n",
    "from zipfile import ZipFile\n",
    "from PIL import Image\n",
    "from keras.callbacks import History\n",
    "import matplotlib.pyplot as plt\n",
    "from keras.callbacks import TensorBoard\n",
    "import time\n",
    "history = History()"
   ]
  },
  {
   "cell_type": "code",
   "execution_count": 2,
   "metadata": {},
   "outputs": [],
   "source": [
    "#filename = 'train.zip'\n",
    "#with ZipFile(filename, 'r') as zip:\n",
    "#   print('Extracting files')\n",
    "#    zip.extractall(\"./all_train_images\")\n",
    "#    print('Done')\n",
    "\n",
    "#filename = 'test.zip'\n",
    "#with ZipFile(filename, 'r') as zip:\n",
    "#    print('Extracting files')\n",
    "#    zip.extractall(\"./all_test_images\")\n",
    "#    print('Done')"
   ]
  },
  {
   "cell_type": "code",
   "execution_count": 3,
   "metadata": {},
   "outputs": [
    {
     "data": {
      "text/html": [
       "<div>\n",
       "<style scoped>\n",
       "    .dataframe tbody tr th:only-of-type {\n",
       "        vertical-align: middle;\n",
       "    }\n",
       "\n",
       "    .dataframe tbody tr th {\n",
       "        vertical-align: top;\n",
       "    }\n",
       "\n",
       "    .dataframe thead th {\n",
       "        text-align: right;\n",
       "    }\n",
       "</style>\n",
       "<table border=\"1\" class=\"dataframe\">\n",
       "  <thead>\n",
       "    <tr style=\"text-align: right;\">\n",
       "      <th></th>\n",
       "      <th>id</th>\n",
       "      <th>label</th>\n",
       "    </tr>\n",
       "  </thead>\n",
       "  <tbody>\n",
       "    <tr>\n",
       "      <th>0</th>\n",
       "      <td>f38a6374c348f90b587e046aac6079959adf3835.tif</td>\n",
       "      <td>0</td>\n",
       "    </tr>\n",
       "    <tr>\n",
       "      <th>1</th>\n",
       "      <td>c18f2d887b7ae4f6742ee445113fa1aef383ed77.tif</td>\n",
       "      <td>1</td>\n",
       "    </tr>\n",
       "    <tr>\n",
       "      <th>2</th>\n",
       "      <td>755db6279dae599ebb4d39a9123cce439965282d.tif</td>\n",
       "      <td>0</td>\n",
       "    </tr>\n",
       "    <tr>\n",
       "      <th>3</th>\n",
       "      <td>bc3f0c64fb968ff4a8bd33af6971ecae77c75e08.tif</td>\n",
       "      <td>0</td>\n",
       "    </tr>\n",
       "    <tr>\n",
       "      <th>4</th>\n",
       "      <td>068aba587a4950175d04c680d38943fd488d6a9d.tif</td>\n",
       "      <td>0</td>\n",
       "    </tr>\n",
       "  </tbody>\n",
       "</table>\n",
       "</div>"
      ],
      "text/plain": [
       "                                             id label\n",
       "0  f38a6374c348f90b587e046aac6079959adf3835.tif     0\n",
       "1  c18f2d887b7ae4f6742ee445113fa1aef383ed77.tif     1\n",
       "2  755db6279dae599ebb4d39a9123cce439965282d.tif     0\n",
       "3  bc3f0c64fb968ff4a8bd33af6971ecae77c75e08.tif     0\n",
       "4  068aba587a4950175d04c680d38943fd488d6a9d.tif     0"
      ]
     },
     "execution_count": 3,
     "metadata": {},
     "output_type": "execute_result"
    }
   ],
   "source": [
    "labels = pd.read_csv(\"train_labels.csv\")\n",
    "labels[\"label\"] = labels[\"label\"].replace({0: '0', 1: '1'})\n",
    "labels[\"id\"] = labels[\"id\"].astype(str) + '.tif'\n",
    "labels.head()"
   ]
  },
  {
   "cell_type": "code",
   "execution_count": 4,
   "metadata": {},
   "outputs": [
    {
     "name": "stdout",
     "output_type": "stream",
     "text": [
      "Found 154018 validated image filenames belonging to 2 classes.\n",
      "Found 66007 validated image filenames belonging to 2 classes.\n"
     ]
    }
   ],
   "source": [
    "train_datagen = ImageDataGenerator(\n",
    "    rotation_range=15,\n",
    "    rescale=1./255,\n",
    "    shear_range=0.1,\n",
    "    zoom_range=0.2,\n",
    "    horizontal_flip=True,\n",
    "    width_shift_range=0.1,\n",
    "    height_shift_range=0.1,\n",
    "    validation_split = 0.3\n",
    ")\n",
    "\n",
    "train_generator = train_datagen.flow_from_dataframe(\n",
    "    labels, \n",
    "    \"./all_train_images/train\", \n",
    "    x_col='id',\n",
    "    y_col='label',\n",
    "    target_size=(96,96),\n",
    "    class_mode='binary',\n",
    "    batch_size=18,\n",
    "    subset = 'training'\n",
    ")#batch_size=36 got a 77% accuracy\n",
    "\n",
    "validation_generator = train_datagen.flow_from_dataframe(\n",
    "        labels,\n",
    "        \"./all_train_images/train\",\n",
    "        x_col='id',\n",
    "        y_col='label',\n",
    "        target_size=(96, 96),\n",
    "        batch_size=18,\n",
    "        class_mode='binary',\n",
    "        subset='validation'\n",
    "    )"
   ]
  },
  {
   "cell_type": "code",
   "execution_count": 5,
   "metadata": {},
   "outputs": [],
   "source": [
    "model = Sequential()\n",
    "model.add(Conv2D(32, (3, 3), padding='valid',\n",
    "                 input_shape=(96,96,3)))\n",
    "model.add(Activation('relu'))\n",
    "model.add(Conv2D(32, (3, 3)))\n",
    "model.add(Activation('relu'))\n",
    "model.add(MaxPooling2D(pool_size=(2, 2)))\n",
    "model.add(Dropout(0.25))\n",
    "model.add(Conv2D(64, (3, 3), padding='valid'))\n",
    "model.add(Activation('relu'))\n",
    "model.add(Conv2D(64, (3, 3)))\n",
    "model.add(Activation('relu'))\n",
    "model.add(MaxPooling2D(pool_size=(2, 2)))\n",
    "model.add(Dropout(0.25))\n",
    "model.add(Dense(512))\n",
    "model.add(Activation('relu'))\n",
    "model.add(Dropout(0.5))\n",
    "model.add(Flatten())\n",
    "model.add(Dense(1, activation='sigmoid'))"
   ]
  },
  {
   "cell_type": "code",
   "execution_count": 6,
   "metadata": {},
   "outputs": [],
   "source": [
    "NAME = 'malignant-cell-detection-cnn-{}'.format(int(time.time()))\n",
    "tensorboard = TensorBoard(log_dir='./logs/{}'.format(NAME))"
   ]
  },
  {
   "cell_type": "code",
   "execution_count": 7,
   "metadata": {},
   "outputs": [
    {
     "data": {
      "text/plain": [
       "Reusing TensorBoard on port 6006 (pid 8584), started 0:26:30 ago. (Use '!kill 8584' to kill it.)"
      ]
     },
     "metadata": {},
     "output_type": "display_data"
    },
    {
     "data": {
      "text/html": [
       "\n",
       "      <iframe id=\"tensorboard-frame-410a21214f417e4b\" width=\"100%\" height=\"800\" frameborder=\"0\">\n",
       "      </iframe>\n",
       "      <script>\n",
       "        (function() {\n",
       "          const frame = document.getElementById(\"tensorboard-frame-410a21214f417e4b\");\n",
       "          const url = new URL(\"/\", window.location);\n",
       "          const port = 6006;\n",
       "          if (port) {\n",
       "            url.port = port;\n",
       "          }\n",
       "          frame.src = url;\n",
       "        })();\n",
       "      </script>\n",
       "    "
      ],
      "text/plain": [
       "<IPython.core.display.HTML object>"
      ]
     },
     "metadata": {},
     "output_type": "display_data"
    }
   ],
   "source": [
    "%tensorboard --logdir logs"
   ]
  },
  {
   "cell_type": "code",
   "execution_count": 8,
   "metadata": {},
   "outputs": [],
   "source": [
    "model.compile(loss=\"binary_crossentropy\", \n",
    "              metrics = ['accuracy', \"Precision\", \"Recall\"], \n",
    "              optimizer='adam')"
   ]
  },
  {
   "cell_type": "code",
   "execution_count": 9,
   "metadata": {},
   "outputs": [
    {
     "name": "stdout",
     "output_type": "stream",
     "text": [
      "Model: \"sequential\"\n",
      "_________________________________________________________________\n",
      "Layer (type)                 Output Shape              Param #   \n",
      "=================================================================\n",
      "conv2d (Conv2D)              (None, 94, 94, 32)        896       \n",
      "_________________________________________________________________\n",
      "activation (Activation)      (None, 94, 94, 32)        0         \n",
      "_________________________________________________________________\n",
      "conv2d_1 (Conv2D)            (None, 92, 92, 32)        9248      \n",
      "_________________________________________________________________\n",
      "activation_1 (Activation)    (None, 92, 92, 32)        0         \n",
      "_________________________________________________________________\n",
      "max_pooling2d (MaxPooling2D) (None, 46, 46, 32)        0         \n",
      "_________________________________________________________________\n",
      "dropout (Dropout)            (None, 46, 46, 32)        0         \n",
      "_________________________________________________________________\n",
      "conv2d_2 (Conv2D)            (None, 44, 44, 64)        18496     \n",
      "_________________________________________________________________\n",
      "activation_2 (Activation)    (None, 44, 44, 64)        0         \n",
      "_________________________________________________________________\n",
      "conv2d_3 (Conv2D)            (None, 42, 42, 64)        36928     \n",
      "_________________________________________________________________\n",
      "activation_3 (Activation)    (None, 42, 42, 64)        0         \n",
      "_________________________________________________________________\n",
      "max_pooling2d_1 (MaxPooling2 (None, 21, 21, 64)        0         \n",
      "_________________________________________________________________\n",
      "dropout_1 (Dropout)          (None, 21, 21, 64)        0         \n",
      "_________________________________________________________________\n",
      "dense (Dense)                (None, 21, 21, 512)       33280     \n",
      "_________________________________________________________________\n",
      "activation_4 (Activation)    (None, 21, 21, 512)       0         \n",
      "_________________________________________________________________\n",
      "dropout_2 (Dropout)          (None, 21, 21, 512)       0         \n",
      "_________________________________________________________________\n",
      "flatten (Flatten)            (None, 225792)            0         \n",
      "_________________________________________________________________\n",
      "dense_1 (Dense)              (None, 1)                 225793    \n",
      "=================================================================\n",
      "Total params: 324,641\n",
      "Trainable params: 324,641\n",
      "Non-trainable params: 0\n",
      "_________________________________________________________________\n"
     ]
    }
   ],
   "source": [
    "model.summary()"
   ]
  },
  {
   "cell_type": "code",
   "execution_count": 10,
   "metadata": {},
   "outputs": [
    {
     "name": "stdout",
     "output_type": "stream",
     "text": [
      "Epoch 1/10\n",
      "8557/8557 [==============================] - 1458s 170ms/step - loss: 0.5064 - accuracy: 0.7476 - precision: 0.7294 - recall: 0.5583 - val_loss: 0.4968 - val_accuracy: 0.7789 - val_precision: 0.6774 - val_recall: 0.8657\n",
      "Epoch 2/10\n",
      "8557/8557 [==============================] - 1471s 172ms/step - loss: 0.4094 - accuracy: 0.8167 - precision: 0.8001 - recall: 0.7281 - val_loss: 0.3664 - val_accuracy: 0.8385 - val_precision: 0.8302 - val_recall: 0.7552\n",
      "Epoch 3/10\n",
      "8557/8557 [==============================] - 1491s 174ms/step - loss: 0.3754 - accuracy: 0.8371 - precision: 0.8308 - recall: 0.7503 - val_loss: 0.4031 - val_accuracy: 0.8245 - val_precision: 0.7741 - val_recall: 0.7993\n",
      "Epoch 4/10\n",
      "8557/8557 [==============================] - 1501s 175ms/step - loss: 0.3554 - accuracy: 0.8460 - precision: 0.8436 - recall: 0.7605 - val_loss: 0.3370 - val_accuracy: 0.8550 - val_precision: 0.8095 - val_recall: 0.8389\n",
      "Epoch 5/10\n",
      "8557/8557 [==============================] - 1482s 173ms/step - loss: 0.3430 - accuracy: 0.8548 - precision: 0.8548 - recall: 0.7740 - val_loss: 0.3512 - val_accuracy: 0.8505 - val_precision: 0.8581 - val_recall: 0.7554\n",
      "Epoch 6/10\n",
      "8557/8557 [==============================] - 1475s 172ms/step - loss: 0.3326 - accuracy: 0.8599 - precision: 0.8611 - recall: 0.7790 - val_loss: 0.3444 - val_accuracy: 0.8565 - val_precision: 0.7943 - val_recall: 0.8707\n",
      "Epoch 7/10\n",
      "8557/8557 [==============================] - 1503s 176ms/step - loss: 0.3267 - accuracy: 0.8639 - precision: 0.8666 - recall: 0.7853 - val_loss: 0.3142 - val_accuracy: 0.8661 - val_precision: 0.8178 - val_recall: 0.8606\n",
      "Epoch 8/10\n",
      "8557/8557 [==============================] - 1492s 174ms/step - loss: 0.3252 - accuracy: 0.8641 - precision: 0.8660 - recall: 0.7862 - val_loss: 0.3694 - val_accuracy: 0.8479 - val_precision: 0.7687 - val_recall: 0.8923\n",
      "Epoch 9/10\n",
      "8557/8557 [==============================] - 1488s 174ms/step - loss: 0.3221 - accuracy: 0.8657 - precision: 0.8688 - recall: 0.7864 - val_loss: 0.4038 - val_accuracy: 0.8174 - val_precision: 0.7602 - val_recall: 0.8012\n",
      "Epoch 10/10\n",
      "8557/8557 [==============================] - 1492s 174ms/step - loss: 0.3195 - accuracy: 0.8656 - precision: 0.8693 - recall: 0.7871 - val_loss: 0.2935 - val_accuracy: 0.8788 - val_precision: 0.8518 - val_recall: 0.8479\n"
     ]
    }
   ],
   "source": [
    "history = model.fit(train_generator, \n",
    "                    validation_data = validation_generator, \n",
    "                    epochs=10, shuffle = True, \n",
    "                    callbacks=[tensorboard])"
   ]
  },
  {
   "cell_type": "code",
   "execution_count": 11,
   "metadata": {},
   "outputs": [
    {
     "data": {
      "text/plain": [
       "{'loss': [0.4582623243331909,\n",
       "  0.39752790331840515,\n",
       "  0.37003210186958313,\n",
       "  0.3503762483596802,\n",
       "  0.33863821625709534,\n",
       "  0.33214983344078064,\n",
       "  0.32497403025627136,\n",
       "  0.32440462708473206,\n",
       "  0.3204171359539032,\n",
       "  0.3155997395515442],\n",
       " 'accuracy': [0.7850576043128967,\n",
       "  0.8237608671188354,\n",
       "  0.8397979736328125,\n",
       "  0.8494786620140076,\n",
       "  0.8561336994171143,\n",
       "  0.8591268658638,\n",
       "  0.8641976714134216,\n",
       "  0.8642236590385437,\n",
       "  0.8663922548294067,\n",
       "  0.8682621717453003],\n",
       " 'precision': [0.7703388333320618,\n",
       "  0.8107908368110657,\n",
       "  0.8349007964134216,\n",
       "  0.8471871018409729,\n",
       "  0.8558348417282104,\n",
       "  0.8598010540008545,\n",
       "  0.8671750426292419,\n",
       "  0.8661092519760132,\n",
       "  0.8699688911437988,\n",
       "  0.8724363446235657],\n",
       " 'recall': [0.6691284775733948,\n",
       "  0.7371675968170166,\n",
       "  0.753764808177948,\n",
       "  0.7669336795806885,\n",
       "  0.7756808996200562,\n",
       "  0.7795097827911377,\n",
       "  0.7851810455322266,\n",
       "  0.7865748405456543,\n",
       "  0.7881287932395935,\n",
       "  0.7905318737030029],\n",
       " 'val_loss': [0.49683040380477905,\n",
       "  0.36643916368484497,\n",
       "  0.4031035602092743,\n",
       "  0.33698564767837524,\n",
       "  0.35118627548217773,\n",
       "  0.3444182872772217,\n",
       "  0.3141965866088867,\n",
       "  0.36935532093048096,\n",
       "  0.40380141139030457,\n",
       "  0.2935122847557068],\n",
       " 'val_accuracy': [0.7789022326469421,\n",
       "  0.8385171294212341,\n",
       "  0.8244882822036743,\n",
       "  0.8550001978874207,\n",
       "  0.8505309820175171,\n",
       "  0.8564697504043579,\n",
       "  0.8660596609115601,\n",
       "  0.8478797674179077,\n",
       "  0.8173527121543884,\n",
       "  0.8788310289382935],\n",
       " 'val_precision': [0.677354097366333,\n",
       "  0.8302174210548401,\n",
       "  0.7741057872772217,\n",
       "  0.809513509273529,\n",
       "  0.8580606579780579,\n",
       "  0.7942593693733215,\n",
       "  0.8177902698516846,\n",
       "  0.7687491774559021,\n",
       "  0.7601734399795532,\n",
       "  0.8518421053886414],\n",
       " 'val_recall': [0.8657152652740479,\n",
       "  0.7551785111427307,\n",
       "  0.7993032932281494,\n",
       "  0.8388957381248474,\n",
       "  0.7554032206535339,\n",
       "  0.8706596493721008,\n",
       "  0.8605836033821106,\n",
       "  0.8923100233078003,\n",
       "  0.8011761903762817,\n",
       "  0.8478855490684509]}"
      ]
     },
     "execution_count": 11,
     "metadata": {},
     "output_type": "execute_result"
    }
   ],
   "source": [
    "history.history"
   ]
  }
 ],
 "metadata": {
  "kernelspec": {
   "display_name": "Python 3",
   "language": "python",
   "name": "python3"
  },
  "language_info": {
   "codemirror_mode": {
    "name": "ipython",
    "version": 3
   },
   "file_extension": ".py",
   "mimetype": "text/x-python",
   "name": "python",
   "nbconvert_exporter": "python",
   "pygments_lexer": "ipython3",
   "version": "3.8.3"
  }
 },
 "nbformat": 4,
 "nbformat_minor": 4
}
